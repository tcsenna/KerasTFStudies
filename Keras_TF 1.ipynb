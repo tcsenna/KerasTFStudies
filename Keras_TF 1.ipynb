{
 "cells": [
  {
   "cell_type": "markdown",
   "metadata": {},
   "source": [
    "Reading a data from github "
   ]
  },
  {
   "cell_type": "code",
   "execution_count": 4,
   "metadata": {},
   "outputs": [],
   "source": [
    "import pandas as pd\n",
    "#vai no dado que vc quer copiar no git, clica em raw e pega ESSA URL"
   ]
  },
  {
   "cell_type": "code",
   "execution_count": 5,
   "metadata": {},
   "outputs": [],
   "source": [
    "url = 'https://raw.githubusercontent.com/Jojo666/Sentimental-Analysis_R/master/Resp1.csv'"
   ]
  },
  {
   "cell_type": "code",
   "execution_count": 7,
   "metadata": {},
   "outputs": [
    {
     "data": {
      "text/html": [
       "<div>\n",
       "<style scoped>\n",
       "    .dataframe tbody tr th:only-of-type {\n",
       "        vertical-align: middle;\n",
       "    }\n",
       "\n",
       "    .dataframe tbody tr th {\n",
       "        vertical-align: top;\n",
       "    }\n",
       "\n",
       "    .dataframe thead th {\n",
       "        text-align: right;\n",
       "    }\n",
       "</style>\n",
       "<table border=\"1\" class=\"dataframe\">\n",
       "  <thead>\n",
       "    <tr style=\"text-align: right;\">\n",
       "      <th></th>\n",
       "      <th>fitness</th>\n",
       "      <th>respiration</th>\n",
       "    </tr>\n",
       "  </thead>\n",
       "  <tbody>\n",
       "    <tr>\n",
       "      <th>0</th>\n",
       "      <td>0</td>\n",
       "      <td>3.94</td>\n",
       "    </tr>\n",
       "    <tr>\n",
       "      <th>1</th>\n",
       "      <td>0</td>\n",
       "      <td>4.26</td>\n",
       "    </tr>\n",
       "    <tr>\n",
       "      <th>2</th>\n",
       "      <td>0</td>\n",
       "      <td>4.16</td>\n",
       "    </tr>\n",
       "    <tr>\n",
       "      <th>3</th>\n",
       "      <td>0</td>\n",
       "      <td>3.76</td>\n",
       "    </tr>\n",
       "    <tr>\n",
       "      <th>4</th>\n",
       "      <td>0</td>\n",
       "      <td>4.07</td>\n",
       "    </tr>\n",
       "  </tbody>\n",
       "</table>\n",
       "</div>"
      ],
      "text/plain": [
       "   fitness  respiration\n",
       "0        0         3.94\n",
       "1        0         4.26\n",
       "2        0         4.16\n",
       "3        0         3.76\n",
       "4        0         4.07"
      ]
     },
     "execution_count": 7,
     "metadata": {},
     "output_type": "execute_result"
    }
   ],
   "source": [
    "df1=pd.read_csv(url)\n",
    "df1.head()"
   ]
  },
  {
   "cell_type": "markdown",
   "metadata": {},
   "source": [
    "Se for no colab, podemos dar um uploado do nosso csv:  \n",
    "from google.colab import files  \n",
    "up=files.upload()  \n",
    "seleciono o arquivo, ex: iris.csv  \n",
    "import io  \n",
    "df2=pd.read_csv(io.BytesIO(up['iris.csv']))  "
   ]
  },
  {
   "cell_type": "code",
   "execution_count": 14,
   "metadata": {},
   "outputs": [],
   "source": [
    "import tensorflow as tf"
   ]
  },
  {
   "cell_type": "code",
   "execution_count": 18,
   "metadata": {},
   "outputs": [],
   "source": [
    "a = tf.constant(6, name='constant_a')\n",
    "b = tf.constant(3, name='constant_b')\n",
    "c = tf.constant(10, name='constant_c')\n",
    "d = tf.constant(5, name='constant_d')\n",
    "\n",
    "#a,b,c and d are the tensors flowing through the graph\n",
    "mul = tf.multiply(a,b, name=\"mul\")\n",
    "#mul is a node which specifies the multiply operation on 'a' and 'b'\n",
    "div = tf.div(c,d, name=\"div\")"
   ]
  },
  {
   "cell_type": "code",
   "execution_count": 21,
   "metadata": {},
   "outputs": [],
   "source": [
    "addn = tf.add_n([mul,div], name=\"addn\")\n",
    "#tf.add_n sums up the element in an array"
   ]
  },
  {
   "cell_type": "code",
   "execution_count": 20,
   "metadata": {},
   "outputs": [
    {
     "data": {
      "text/plain": [
       "20"
      ]
     },
     "execution_count": 20,
     "metadata": {},
     "output_type": "execute_result"
    }
   ],
   "source": [
    "sess = tf.Session()\n",
    "sess.run(addn)"
   ]
  },
  {
   "cell_type": "code",
   "execution_count": 23,
   "metadata": {},
   "outputs": [
    {
     "data": {
      "text/plain": [
       "20"
      ]
     },
     "execution_count": 23,
     "metadata": {},
     "output_type": "execute_result"
    }
   ],
   "source": [
    "#in order to obtain the results, i create a var sess then I run the session \n",
    "#in order to obtain the result of these different computations\n",
    "\n",
    "sess = tf.Session()\n",
    "sess.run(addn) #this command runs the session\n"
   ]
  },
  {
   "cell_type": "code",
   "execution_count": 24,
   "metadata": {},
   "outputs": [
    {
     "data": {
      "text/plain": [
       "2"
      ]
     },
     "execution_count": 24,
     "metadata": {},
     "output_type": "execute_result"
    }
   ],
   "source": [
    "sess.run(div)"
   ]
  },
  {
   "cell_type": "markdown",
   "metadata": {},
   "source": [
    "### Interactive sessions - allows us to add things and use .eval() instead of Sessions.run \n",
    " \n",
    " good for brief computation, instead of writing the whole set of code related to running an entire session  \n",
    " for intense purposes, we run the proper tensorflow session"
   ]
  },
  {
   "cell_type": "code",
   "execution_count": 25,
   "metadata": {},
   "outputs": [
    {
     "data": {
      "text/plain": [
       "6"
      ]
     },
     "execution_count": 25,
     "metadata": {},
     "output_type": "execute_result"
    }
   ],
   "source": [
    "import tensorflow as tf\n",
    "\n",
    "##targeted for using IPython and Jupyter Notebooks that allows you to add things and use .eval() instead of Sessions.run\n",
    "\n",
    "sess = tf.InteractiveSession() #here I specify that I wish to run an interactive session instead of a session tf.Session()\n",
    "a = tf.constant(1)\n",
    "b = tf.constant(5)\n",
    "c = a + b\n",
    "# instead of sess.run(c)\n",
    "c.eval()"
   ]
  },
  {
   "cell_type": "markdown",
   "metadata": {},
   "source": [
    "### Constants and variables  \n",
    "**When you declare some contant, its value can't be changed in the future** (also the initialization should be with a value, not with operation)  \n",
    "could be a single value or a couple of values (list)"
   ]
  },
  {
   "cell_type": "code",
   "execution_count": 27,
   "metadata": {},
   "outputs": [
    {
     "name": "stdout",
     "output_type": "stream",
     "text": [
      "Tensor(\"Mul_6:0\", shape=(4,), dtype=int32)\n"
     ]
    }
   ],
   "source": [
    "import tensorflow as tf\n",
    "\n",
    "##when you declare some constant, its value can't be changed in the future (also the initialization should be with a value,\n",
    "## not with operation)\n",
    "\n",
    "# Initialize two constants\n",
    "x1 = tf.constant([1,2,3,4])\n",
    "x2 = tf.constant([5,6,7,6])\n",
    "# Multiply\n",
    "result = tf.multiply(x1, x2)\n",
    "# Print the result\n",
    "print(result)\n"
   ]
  },
  {
   "cell_type": "code",
   "execution_count": 28,
   "metadata": {},
   "outputs": [
    {
     "name": "stdout",
     "output_type": "stream",
     "text": [
      "[ 5 12 21 24]\n"
     ]
    }
   ],
   "source": [
    "#note that it doesn't output the value\n",
    "#that's why we need a session in this case\n",
    "# Intialize the Session\n",
    "sess = tf.Session()\n",
    "\n",
    "# Print the result\n",
    "print(sess.run(result))\n",
    "\n",
    "# Close the session\n",
    "sess.close()\n"
   ]
  },
  {
   "cell_type": "markdown",
   "metadata": {},
   "source": [
    "## When you declare a Variable, you can change its value in the future\n"
   ]
  },
  {
   "cell_type": "code",
   "execution_count": 30,
   "metadata": {},
   "outputs": [
    {
     "name": "stdout",
     "output_type": "stream",
     "text": [
      "43\n"
     ]
    }
   ],
   "source": [
    "x = tf.constant(35, name='x') #HERE I DECLARE CONSTANT. IF I WANT TO CHANGE ITS VALUE, MUST BE HERE, NOT IN THE SESSION\n",
    "y = tf.Variable(x + 8, name='y') #HERE I DECLARE VARIABLE\n",
    "\n",
    "model = tf.global_variables_initializer() \n",
    "\n",
    "with tf.Session() as session: #ANOTHER WAY OF INITIALIZING A SESSION\n",
    "    session.run(model)\n",
    "    print(session.run(y))"
   ]
  },
  {
   "cell_type": "markdown",
   "metadata": {},
   "source": [
    "# Placeholders\n",
    "\n",
    "## Placeholders in TensorFlow are similar to variables\n",
    "## We don't have to provide an initial value and you can specify it at runtime with feed_dict argument inside Session.run  \n",
    "\n",
    "\n",
    "just another way of specifying variables, with more flexibility in variable declaration  \n"
   ]
  },
  {
   "cell_type": "code",
   "execution_count": 31,
   "metadata": {},
   "outputs": [],
   "source": [
    "#i want my variables to be 32-bit integer\n",
    "#setup placeholder using tf.placeholder\n",
    "x = tf.placeholder(tf.int32, shape=[3],name='x') #variable w/ 3 empties\n",
    "\n",
    "y = tf.placeholder(tf.int32, shape=[3],name='y')\n",
    "#we will specify the variable with feed_dict"
   ]
  },
  {
   "cell_type": "code",
   "execution_count": 34,
   "metadata": {},
   "outputs": [
    {
     "name": "stdout",
     "output_type": "stream",
     "text": [
      "sum(x):  600\n",
      "prod(y):  6\n"
     ]
    }
   ],
   "source": [
    "sum_x = tf.reduce_sum(x,name=\"sum_x\")\n",
    "prod_y = tf.reduce_prod(y,name=\"prod_y\")\n",
    "\n",
    "final_mean = tf.reduce_mean([sum_x, prod_y], name=\"final_mean\")\n",
    "sess = tf.Session()\n",
    "print (\"sum(x): \", sess.run(sum_x, feed_dict={x: [100,200,300]}))\n",
    "print (\"prod(y): \", sess.run(prod_y, feed_dict={y: [1,2,3]}))\n",
    "#writer = tf.summary.FileWriter('./tensorflow_example',sess.graph) #to write the results"
   ]
  },
  {
   "cell_type": "markdown",
   "metadata": {},
   "source": [
    "Keras is going to make our lives so much simpler.  \n",
    "NN API written on top of either Theano or Tensorflow. Implementation of NN and DL so much simpler."
   ]
  },
  {
   "cell_type": "code",
   "execution_count": null,
   "metadata": {},
   "outputs": [],
   "source": []
  },
  {
   "cell_type": "code",
   "execution_count": null,
   "metadata": {},
   "outputs": [],
   "source": []
  },
  {
   "cell_type": "code",
   "execution_count": null,
   "metadata": {},
   "outputs": [],
   "source": []
  }
 ],
 "metadata": {
  "kernelspec": {
   "display_name": "Python 3",
   "language": "python",
   "name": "python3"
  },
  "language_info": {
   "codemirror_mode": {
    "name": "ipython",
    "version": 3
   },
   "file_extension": ".py",
   "mimetype": "text/x-python",
   "name": "python",
   "nbconvert_exporter": "python",
   "pygments_lexer": "ipython3",
   "version": "3.7.0"
  }
 },
 "nbformat": 4,
 "nbformat_minor": 2
}
