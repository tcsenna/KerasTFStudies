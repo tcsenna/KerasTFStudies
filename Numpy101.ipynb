{
 "cells": [
  {
   "cell_type": "markdown",
   "metadata": {},
   "source": [
    "[http://cs231n.github.io/python-numpy-tutorial/#numpy]"
   ]
  },
  {
   "cell_type": "code",
   "execution_count": 1,
   "metadata": {},
   "outputs": [],
   "source": [
    "import numpy as np"
   ]
  },
  {
   "cell_type": "code",
   "execution_count": 2,
   "metadata": {},
   "outputs": [
    {
     "name": "stdout",
     "output_type": "stream",
     "text": [
      "<class 'list'>\n"
     ]
    }
   ],
   "source": [
    "#pay attention to this:\n",
    "arr1=[3,4,5,6,7]\n",
    "print(type(arr1))"
   ]
  },
  {
   "cell_type": "code",
   "execution_count": 4,
   "metadata": {},
   "outputs": [
    {
     "name": "stdout",
     "output_type": "stream",
     "text": [
      "<class 'numpy.ndarray'>\n"
     ]
    }
   ],
   "source": [
    "#now things change...\n",
    "narr1=np.array(arr1)\n",
    "print(type(narr1)) #repare que é narr1 e não arr1\n",
    "#becomes a np.ndarray object, que vamos trabalhar aqui em ver as diferentes funções que podemos implementar nesse objeto\n",
    "#isso inclui desde operacoes aritmeticas basicas até sistemas de equacoes lineares e estatistica bascia"
   ]
  },
  {
   "cell_type": "markdown",
   "metadata": {},
   "source": [
    "Numpy is an n dim array object or ndarray  \n",
    "provides a fast and efficient way of storing homogeneous data  \n",
    "we can have nd array w/ 1 dimension or 1 row and these are rank 1 arrays  \n",
    "or we can have multidimensional arrays with more than one row [[row1, row2],[row3,row4]]"
   ]
  },
  {
   "cell_type": "code",
   "execution_count": 10,
   "metadata": {},
   "outputs": [
    {
     "name": "stdout",
     "output_type": "stream",
     "text": [
      "<class 'list'>\n",
      "[[1, 2, 3, 4], [3, 4, 5, 6]]\n"
     ]
    }
   ],
   "source": [
    "# multidimensional array\n",
    "\n",
    "arr2=[[1,2,3,4],[3,4,5,6]]\n",
    "print(type(arr2))\n",
    "print(arr2)"
   ]
  },
  {
   "cell_type": "code",
   "execution_count": 9,
   "metadata": {},
   "outputs": [
    {
     "name": "stdout",
     "output_type": "stream",
     "text": [
      "<class 'numpy.ndarray'>\n",
      "[[1 2 3 4]\n",
      " [3 4 5 6]]\n"
     ]
    }
   ],
   "source": [
    "narr2=np.array(arr2)\n",
    "print(type(narr2))\n",
    "print(narr2)"
   ]
  },
  {
   "cell_type": "code",
   "execution_count": 11,
   "metadata": {},
   "outputs": [
    {
     "name": "stdout",
     "output_type": "stream",
     "text": [
      "[[1 2 3 4]\n",
      " [3 4 5 6]\n",
      " [7 8 9 6]]\n"
     ]
    }
   ],
   "source": [
    "arr3=[[1,2,3,4],[3,4,5,6],[7,8,9,6]]\n",
    "\n",
    "narr3=np.array(arr3)\n",
    "\n",
    "print(narr3)\n",
    "#multidimensional arrays w/ 3 rows and full cols"
   ]
  },
  {
   "cell_type": "code",
   "execution_count": 12,
   "metadata": {},
   "outputs": [
    {
     "name": "stdout",
     "output_type": "stream",
     "text": [
      "(3, 4)\n"
     ]
    }
   ],
   "source": [
    "print(narr3.shape)\n"
   ]
  },
  {
   "cell_type": "code",
   "execution_count": 13,
   "metadata": {},
   "outputs": [
    {
     "name": "stdout",
     "output_type": "stream",
     "text": [
      "[[0. 0.]\n",
      " [0. 0.]]\n"
     ]
    }
   ],
   "source": [
    "#2*2 array with 0s\n",
    "\n",
    "zer=np.zeros((2,2))\n",
    "print(zer)"
   ]
  },
  {
   "cell_type": "code",
   "execution_count": 16,
   "metadata": {},
   "outputs": [
    {
     "name": "stdout",
     "output_type": "stream",
     "text": [
      "[[5 5]\n",
      " [5 5]]\n"
     ]
    }
   ],
   "source": [
    "#2*2 constant arrays\n",
    "\n",
    "full=np.full((2,2),5)\n",
    "\n",
    "print(full)"
   ]
  },
  {
   "cell_type": "code",
   "execution_count": 18,
   "metadata": {},
   "outputs": [
    {
     "name": "stdout",
     "output_type": "stream",
     "text": [
      "[[1. 0. 0. 0.]\n",
      " [0. 1. 0. 0.]\n",
      " [0. 0. 1. 0.]\n",
      " [0. 0. 0. 1.]]\n"
     ]
    }
   ],
   "source": [
    "ex3 = np.eye(4,4) #identidade\n",
    "print(ex3)"
   ]
  },
  {
   "cell_type": "code",
   "execution_count": 20,
   "metadata": {},
   "outputs": [
    {
     "name": "stdout",
     "output_type": "stream",
     "text": [
      "[[0.39586866 0.31428252]\n",
      " [0.45512347 0.94953045]]\n"
     ]
    }
   ],
   "source": [
    "e = np.random.random((2,2)) # Create an array filled with random values\n",
    "print (e)"
   ]
  },
  {
   "cell_type": "markdown",
   "metadata": {},
   "source": [
    "a[start:end] vai do item 0 até o item (end-1)  \n",
    "a[start:] vai do item 0 até o último item  \n",
    "a[:end] vai do item 0 até o item (end-1)  \n",
    "a[:] é uma cópia do array inteiro  "
   ]
  },
  {
   "cell_type": "code",
   "execution_count": 22,
   "metadata": {},
   "outputs": [
    {
     "name": "stdout",
     "output_type": "stream",
     "text": [
      "<class 'numpy.ndarray'>\n",
      "[ 1  2 11  6  8 18  2]\n"
     ]
    }
   ],
   "source": [
    "a=[1,2,11,6,8,18,2]\n",
    "\n",
    "na=np.array(a)\n",
    "\n",
    "print(type(na))\n",
    "print(na)"
   ]
  },
  {
   "cell_type": "code",
   "execution_count": 23,
   "metadata": {},
   "outputs": [
    {
     "name": "stdout",
     "output_type": "stream",
     "text": [
      "(7,)\n"
     ]
    }
   ],
   "source": [
    "print(na.shape) #its a rank 1 numpy array with 7 items"
   ]
  },
  {
   "cell_type": "code",
   "execution_count": 24,
   "metadata": {},
   "outputs": [
    {
     "name": "stdout",
     "output_type": "stream",
     "text": [
      "11\n"
     ]
    }
   ],
   "source": [
    "#lets print out an elemant at index 2\n",
    "print(na[2])"
   ]
  },
  {
   "cell_type": "code",
   "execution_count": 25,
   "metadata": {},
   "outputs": [
    {
     "name": "stdout",
     "output_type": "stream",
     "text": [
      "[ 2 11  6  8]\n"
     ]
    }
   ],
   "source": [
    "#isolate an entire chunk based on start index-end index\n",
    "#print out values at start to end-1 index location\n",
    "\n",
    "print(na[1:5])"
   ]
  },
  {
   "cell_type": "code",
   "execution_count": 26,
   "metadata": {},
   "outputs": [
    {
     "name": "stdout",
     "output_type": "stream",
     "text": [
      "[2 6]\n"
     ]
    }
   ],
   "source": [
    "#use a step of two\n",
    "\n",
    "print(na[1:5:2])"
   ]
  },
  {
   "cell_type": "code",
   "execution_count": 31,
   "metadata": {},
   "outputs": [
    {
     "name": "stdout",
     "output_type": "stream",
     "text": [
      "2\n"
     ]
    }
   ],
   "source": [
    "print(na[-1]) "
   ]
  },
  {
   "cell_type": "code",
   "execution_count": 35,
   "metadata": {},
   "outputs": [
    {
     "name": "stdout",
     "output_type": "stream",
     "text": [
      "[2, 11]\n"
     ]
    }
   ],
   "source": [
    "#negative index\n",
    "#print out values at start to end-1 index location\n",
    "\n",
    "print(a[-6:-4]) #will isolate numbers till -4\n"
   ]
  },
  {
   "cell_type": "code",
   "execution_count": 36,
   "metadata": {},
   "outputs": [
    {
     "name": "stdout",
     "output_type": "stream",
     "text": [
      "[]\n"
     ]
    }
   ],
   "source": [
    "print(a[-3:-10])"
   ]
  },
  {
   "cell_type": "code",
   "execution_count": 37,
   "metadata": {},
   "outputs": [
    {
     "name": "stdout",
     "output_type": "stream",
     "text": [
      "2\n"
     ]
    }
   ],
   "source": [
    "#print last item\n",
    "print(a[-1])"
   ]
  },
  {
   "cell_type": "code",
   "execution_count": 38,
   "metadata": {},
   "outputs": [
    {
     "name": "stdout",
     "output_type": "stream",
     "text": [
      "[6, 8, 18, 2]\n"
     ]
    }
   ],
   "source": [
    "#items start at one index and all the way to the end\n",
    "\n",
    "print(a[3:])"
   ]
  },
  {
   "cell_type": "code",
   "execution_count": 39,
   "metadata": {},
   "outputs": [
    {
     "name": "stdout",
     "output_type": "stream",
     "text": [
      "[1, 2, 11, 6]\n"
     ]
    }
   ],
   "source": [
    "#print items from begining through end-1\n",
    "\n",
    "print(a[:4])"
   ]
  },
  {
   "cell_type": "code",
   "execution_count": 40,
   "metadata": {},
   "outputs": [
    {
     "name": "stdout",
     "output_type": "stream",
     "text": [
      "[1, 2, 11, 6, 8, 18, 2]\n"
     ]
    }
   ],
   "source": [
    "b=a[:] #copy an array\n",
    "print(b)"
   ]
  },
  {
   "cell_type": "code",
   "execution_count": 44,
   "metadata": {},
   "outputs": [
    {
     "name": "stdout",
     "output_type": "stream",
     "text": [
      "[11  8  2  2  6  8  4]\n"
     ]
    }
   ],
   "source": [
    "#concatenate two numpy arrays\n",
    "\n",
    "x=np.array([2,6,8,4])\n",
    "\n",
    "y=np.array([11,8,2])\n",
    "\n",
    "z=np.concatenate([y,x])\n",
    "\n",
    "print(z)"
   ]
  },
  {
   "cell_type": "code",
   "execution_count": 43,
   "metadata": {},
   "outputs": [
    {
     "name": "stdout",
     "output_type": "stream",
     "text": [
      "[ 2 18  8  6 11  2  1]\n"
     ]
    }
   ],
   "source": [
    "#reverse the order\n",
    "k=np.array(a[::-1])\n",
    "print(k)"
   ]
  },
  {
   "cell_type": "code",
   "execution_count": 45,
   "metadata": {},
   "outputs": [
    {
     "name": "stdout",
     "output_type": "stream",
     "text": [
      "[[ 1  2  3  4]\n",
      " [ 3  4  5  6]\n",
      " [ 7  8  9  6]\n",
      " [12  7 10  9]\n",
      " [ 2 11  8 10]]\n"
     ]
    }
   ],
   "source": [
    "##Multi-dimensional array operations\n",
    "arr=[[1,2,3,4],[3,4,5,6],[7,8,9,6],[12,7,10,9],[2,11,8,10]]\n",
    "\n",
    "narr=np.array(arr) #convert array into numpy array\n",
    "\n",
    "print (narr)"
   ]
  },
  {
   "cell_type": "code",
   "execution_count": 46,
   "metadata": {},
   "outputs": [
    {
     "name": "stdout",
     "output_type": "stream",
     "text": [
      "[1 2 3 4]\n"
     ]
    }
   ],
   "source": [
    "print(narr[0]) #print first row at row index 0\n"
   ]
  },
  {
   "cell_type": "code",
   "execution_count": 47,
   "metadata": {},
   "outputs": [
    {
     "name": "stdout",
     "output_type": "stream",
     "text": [
      "[12  7 10  9]\n"
     ]
    }
   ],
   "source": [
    "print(narr[3])"
   ]
  },
  {
   "cell_type": "code",
   "execution_count": 49,
   "metadata": {},
   "outputs": [
    {
     "name": "stdout",
     "output_type": "stream",
     "text": [
      "6\n",
      "10\n"
     ]
    }
   ],
   "source": [
    "print(narr[2,3]) #print contents of row with index 2 and column with index 3 [row,columm]\n",
    "print(narr[3,2])"
   ]
  },
  {
   "cell_type": "code",
   "execution_count": 51,
   "metadata": {},
   "outputs": [
    {
     "name": "stdout",
     "output_type": "stream",
     "text": [
      "[[ 1  2  3  4]\n",
      " [ 3  4  5  6]\n",
      " [ 7  8  9  6]\n",
      " [12  7  0  9]\n",
      " [ 2 11  8 10]]\n"
     ]
    }
   ],
   "source": [
    "narr[3,2]=0 #replace value at a location\n",
    "print (narr)"
   ]
  },
  {
   "cell_type": "code",
   "execution_count": 52,
   "metadata": {},
   "outputs": [
    {
     "name": "stdout",
     "output_type": "stream",
     "text": [
      "[ 2 11  8 10]\n"
     ]
    }
   ],
   "source": [
    "#get the last row\n",
    "print(narr[-1])"
   ]
  },
  {
   "cell_type": "code",
   "execution_count": 54,
   "metadata": {},
   "outputs": [
    {
     "name": "stdout",
     "output_type": "stream",
     "text": [
      "<class 'numpy.ndarray'>\n"
     ]
    }
   ],
   "source": [
    "#get the last row\n",
    "print(type(narr[-1]))"
   ]
  },
  {
   "cell_type": "code",
   "execution_count": 55,
   "metadata": {},
   "outputs": [
    {
     "name": "stdout",
     "output_type": "stream",
     "text": [
      "[12  7  0  9]\n",
      "[[5 6]\n",
      " [9 6]\n",
      " [0 9]]\n"
     ]
    }
   ],
   "source": [
    "#get the 2nd last\n",
    "print(narr[-2])\n",
    "# print rows and columns\n",
    "\n",
    "print(narr[1:4,2:5]) #rows: 1 to 4-1 and columns 2 to 5-1"
   ]
  },
  {
   "cell_type": "code",
   "execution_count": 59,
   "metadata": {},
   "outputs": [
    {
     "name": "stdout",
     "output_type": "stream",
     "text": [
      "[[ 5  6]\n",
      " [ 9  6]\n",
      " [ 0  9]\n",
      " [ 8 10]]\n"
     ]
    }
   ],
   "source": [
    "# print rows and columns\n",
    "\n",
    "print(narr[1:9,2:8]) #rows: 1 to 4-1 and columns 2 to 5-1\n",
    "#it doesn't complain if we extrapolate indexes!!!!!!!!"
   ]
  },
  {
   "cell_type": "code",
   "execution_count": 60,
   "metadata": {},
   "outputs": [
    {
     "name": "stdout",
     "output_type": "stream",
     "text": [
      "[[1 2]\n",
      " [3 4]\n",
      " [5 6]]\n"
     ]
    }
   ],
   "source": [
    "###concatenation row and column wise\n",
    "\n",
    "a = np.array([[1, 2], [3, 4]])\n",
    "b = np.array([[5, 6]])\n",
    "\n",
    "#concatenate row wise \n",
    "\n",
    "c=np.concatenate((a, b))\n",
    "\n",
    "print(c)"
   ]
  },
  {
   "cell_type": "markdown",
   "metadata": {},
   "source": [
    "# Some basic stats with numpy"
   ]
  },
  {
   "cell_type": "code",
   "execution_count": 64,
   "metadata": {},
   "outputs": [
    {
     "name": "stdout",
     "output_type": "stream",
     "text": [
      "[[ 1  2  3  4]\n",
      " [ 3  4  5  6]\n",
      " [ 7  8  9  6]\n",
      " [12  7 10  9]\n",
      " [ 2 11  8 10]]\n",
      "soma total = 127\n",
      "soma por coluna = [25 32 35 35]\n",
      "soma por linha = [10 18 30 38 31]\n"
     ]
    }
   ],
   "source": [
    "arr=[[1,2,3,4],[3,4,5,6],[7,8,9,6],[12,7,10,9],[2,11,8,10]]\n",
    "narr=np.array(arr) #convert array into numpy array\n",
    "print (narr)\n",
    "\n",
    "print('soma total =',narr.sum()) #sum all values of the array\n",
    "print('soma por coluna =',narr.sum(axis=0)) #column wise sum\n",
    "print('soma por linha =',narr.sum(axis=1)) #row wise sum\n"
   ]
  },
  {
   "cell_type": "code",
   "execution_count": 65,
   "metadata": {},
   "outputs": [
    {
     "data": {
      "text/plain": [
       "array([5. , 6.4, 7. , 7. ])"
      ]
     },
     "execution_count": 65,
     "metadata": {},
     "output_type": "execute_result"
    }
   ],
   "source": [
    "#mean and medians are measures of centre tendency\n",
    "\n",
    "narr.mean(axis=0) #column means"
   ]
  },
  {
   "cell_type": "code",
   "execution_count": 66,
   "metadata": {},
   "outputs": [
    {
     "data": {
      "text/plain": [
       "array([2.5, 4.5, 7.5, 9.5, 9. ])"
      ]
     },
     "execution_count": 66,
     "metadata": {},
     "output_type": "execute_result"
    }
   ],
   "source": [
    "np.median(narr,axis=1) #row median"
   ]
  },
  {
   "cell_type": "code",
   "execution_count": 67,
   "metadata": {},
   "outputs": [
    {
     "data": {
      "text/plain": [
       "3.182373328193912"
      ]
     },
     "execution_count": 67,
     "metadata": {},
     "output_type": "execute_result"
    }
   ],
   "source": [
    "#variance in the data\n",
    "\n",
    "np.std(narr) #standard dev"
   ]
  },
  {
   "cell_type": "code",
   "execution_count": 68,
   "metadata": {},
   "outputs": [
    {
     "data": {
      "text/plain": [
       "array([2.5, 4.5, 7.5, 9.5, 9. ])"
      ]
     },
     "execution_count": 68,
     "metadata": {},
     "output_type": "execute_result"
    }
   ],
   "source": [
    "#percentile- value below which a given percentage of observations\n",
    "\n",
    "np.percentile(narr,50,axis=1) #50th percentile"
   ]
  },
  {
   "cell_type": "code",
   "execution_count": 21,
   "metadata": {},
   "outputs": [
    {
     "name": "stdout",
     "output_type": "stream",
     "text": [
      "\n",
      "Showing some basic math on arrays:\n",
      "max: 4\n",
      "max: 2.0\n",
      "max: 2\n",
      "Shape of b: (5,)\n"
     ]
    }
   ],
   "source": [
    "import numpy as np\n",
    "print(\"\\nShowing some basic math on arrays:\")\n",
    "b=np.array([0,1,4,3,2])\n",
    "print(\"max: {}\".format(np.max(b)))\n",
    "print(\"max: {}\".format(np.average(b)))\n",
    "print(\"max: {}\".format(np.argmax(b)))\n",
    "print(\"Shape of b: {}\".format(b.shape))"
   ]
  },
  {
   "cell_type": "code",
   "execution_count": 11,
   "metadata": {},
   "outputs": [
    {
     "name": "stdout",
     "output_type": "stream",
     "text": [
      "[2 2 2 1]\n",
      "[3 3 2]\n"
     ]
    }
   ],
   "source": [
    "import numpy as np\n",
    "#understand argmax\n",
    "arr3=[[1,2,3,4],[3,4,5,6],[7,8,9,6]]\n",
    "\n",
    "a=np.array(arr3)\n",
    "\n",
    "j=np.argmax(a,axis=0) #vai buscar por coluna a posicao do primeiro elemento que for o maior de todos\n",
    "k=np.argmax(a,axis=1) #vai buscar por linha a posicao do primeiro elemento que for o maior de todos\n",
    "print(j)\n",
    "print(k)"
   ]
  },
  {
   "cell_type": "code",
   "execution_count": 12,
   "metadata": {},
   "outputs": [
    {
     "name": "stdout",
     "output_type": "stream",
     "text": [
      "\n",
      "You can print the type of anything\n",
      "Type of b: <class 'numpy.ndarray'>, type of b[0]: <class 'numpy.int32'>\n"
     ]
    }
   ],
   "source": [
    "print(\"\\nYou can print the type of anything\")\n",
    "print(\"Type of b: {}, type of b[0]: {}\".format(type(b), type(b[0]))) #string.format(valores)"
   ]
  },
  {
   "cell_type": "code",
   "execution_count": 13,
   "metadata": {},
   "outputs": [
    {
     "name": "stdout",
     "output_type": "stream",
     "text": [
      "\n",
      "Use numpy to create a [3,3] dimension array with random number\n",
      "[[0.58429994 0.38079415 0.61742577]\n",
      " [0.2191784  0.92595338 0.84078298]\n",
      " [0.64787476 0.45725222 0.94182108]]\n"
     ]
    }
   ],
   "source": [
    "print(\"\\nUse numpy to create a [3,3] dimension array with random number\")\n",
    "c = np.random.rand(3, 3)\n",
    "print(c)"
   ]
  },
  {
   "cell_type": "code",
   "execution_count": 14,
   "metadata": {},
   "outputs": [
    {
     "name": "stdout",
     "output_type": "stream",
     "text": [
      "\n",
      "You can print the dimensions of arrays\n",
      "Shape of a: (3, 4)\n",
      "Shape of b: (5,)\n",
      "Shape of c: (3, 3)\n",
      "...Observe, Python uses both [0,1,2] and (0,1,2) to specify lists\n"
     ]
    }
   ],
   "source": [
    "print(\"\\nYou can print the dimensions of arrays\")\n",
    "print(\"Shape of a: {}\".format(a.shape))\n",
    "print(\"Shape of b: {}\".format(b.shape))\n",
    "print(\"Shape of c: {}\".format(c.shape))\n",
    "print(\"...Observe, Python uses both [0,1,2] and (0,1,2) to specify lists\")"
   ]
  },
  {
   "cell_type": "code",
   "execution_count": 18,
   "metadata": {},
   "outputs": [
    {
     "name": "stdout",
     "output_type": "stream",
     "text": [
      "[0 1 4 3 2]\n",
      "<class 'numpy.ndarray'>\n"
     ]
    }
   ],
   "source": [
    "print(b)\n",
    "print(type(b))"
   ]
  },
  {
   "cell_type": "code",
   "execution_count": 19,
   "metadata": {},
   "outputs": [
    {
     "name": "stdout",
     "output_type": "stream",
     "text": [
      "[[1 2 3 4]\n",
      " [3 4 5 6]\n",
      " [7 8 9 6]]\n",
      "<class 'numpy.ndarray'>\n"
     ]
    }
   ],
   "source": [
    "print(a)\n",
    "print(type(a))"
   ]
  },
  {
   "cell_type": "code",
   "execution_count": 20,
   "metadata": {},
   "outputs": [
    {
     "name": "stdout",
     "output_type": "stream",
     "text": [
      "[[0.58429994 0.38079415 0.61742577]\n",
      " [0.2191784  0.92595338 0.84078298]\n",
      " [0.64787476 0.45725222 0.94182108]]\n",
      "<class 'numpy.ndarray'>\n"
     ]
    }
   ],
   "source": [
    "print(c)\n",
    "print(type(c))"
   ]
  },
  {
   "cell_type": "code",
   "execution_count": null,
   "metadata": {},
   "outputs": [],
   "source": []
  }
 ],
 "metadata": {
  "kernelspec": {
   "display_name": "Python 3",
   "language": "python",
   "name": "python3"
  },
  "language_info": {
   "codemirror_mode": {
    "name": "ipython",
    "version": 3
   },
   "file_extension": ".py",
   "mimetype": "text/x-python",
   "name": "python",
   "nbconvert_exporter": "python",
   "pygments_lexer": "ipython3",
   "version": "3.7.0"
  }
 },
 "nbformat": 4,
 "nbformat_minor": 2
}
